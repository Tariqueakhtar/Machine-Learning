{
 "cells": [
  {
   "cell_type": "markdown",
   "metadata": {},
   "source": [
    "# Uber bills parsing - Pdf file parsing"
   ]
  },
  {
   "cell_type": "code",
   "execution_count": 22,
   "metadata": {},
   "outputs": [],
   "source": [
    "import os\n",
    "dir_Path = 'C://Users//User//Desktop//Uber bills//'\n",
    "os.chdir(dir_Path)"
   ]
  },
  {
   "cell_type": "code",
   "execution_count": 23,
   "metadata": {},
   "outputs": [
    {
     "name": "stdout",
     "output_type": "stream",
     "text": [
      "PHMHIPGH-03-2019-0001364, 13 August 2019, 516.72\n",
      "POBTZBED-03-2019-0000650, 13 August 2019, 378.77\n",
      "LPPIUVAG-03-2019-0002342, 18 July 2019, 578.63\n",
      "GJEBNPIJ-03-2019-0001866, 18 July 2019, 354.57\n",
      "HDGDYKNZ-03-2019-0000119, 18 July 2019, 59.33\n",
      "OPNXCUIF-03-2019-0002761, 21 August 2019, 365.75\n",
      "OTHFFMLW-03-2019-0000615, 21 August 2019, 59.54\n",
      "JPNYXZDN-03-2019-0000956, 21 August 2019, 535.43\n",
      "AKISTSPV-03-2019-0001726, 29 July 2019, 353.95\n",
      "TNJBJUFB-03-2019-0001180, 9 July 2019, 536.09\n",
      "UMVSFYHZ-03-2019-0001962, 9 July 2019, 434.04\n",
      "IEIHJMGQ-03-2019-0004029, 9 July 2019, 62.68\n"
     ]
    }
   ],
   "source": [
    "import PyPDF2\n",
    "\n",
    "file_List = os.listdir()\n",
    " \n",
    "for file_Name in file_List:\n",
    " \n",
    "    f = open(dir_Path+file_Name, 'rb')\n",
    "    reader = PyPDF2.PdfFileReader(f)\n",
    "    file_contents = reader.getPage(0).extractText().split('\\n')\n",
    "    invoice_no = \"\"\n",
    "    date = \"\"\n",
    "    amount = \"\"\n",
    " \n",
    "    for i in range(len(file_contents)):\n",
    "        if file_contents[i].find(\"Invoice Number\") != -1:\n",
    "            invoice_no = file_contents[i].split(': ')[1]\n",
    "        if file_contents[i].find(\"Invoice Date\") != -1:\n",
    "            date = file_contents[i].split(': ')[1]\n",
    "        if file_contents[i].find(\"Gross Amount\") != -1:\n",
    "            amount = file_contents[i+1].split(' ')[0]\n",
    " \n",
    "    print(invoice_no + \", \" + date + \", \" + amount)\n",
    "    f.close()"
   ]
  },
  {
   "cell_type": "markdown",
   "metadata": {},
   "source": [
    "# Word file parsing"
   ]
  },
  {
   "cell_type": "code",
   "execution_count": 26,
   "metadata": {},
   "outputs": [],
   "source": [
    "import docx2txt\n",
    "import os\n",
    "dir_Path = 'C://Users//User//Desktop//'\n",
    "os.chdir(dir_Path)\n",
    " \n",
    "# read in word file\n",
    "result = docx2txt.process(\"mytestfile.docx\")"
   ]
  },
  {
   "cell_type": "code",
   "execution_count": 27,
   "metadata": {},
   "outputs": [
    {
     "data": {
      "text/plain": [
       "'This is a sample text fie which I want to parse in python\\n\\n\\n\\nMy file contains abc and xyz\\n\\n\\n\\n\\n\\nI am changing this file for demo'"
      ]
     },
     "execution_count": 27,
     "metadata": {},
     "output_type": "execute_result"
    }
   ],
   "source": [
    "result"
   ]
  },
  {
   "cell_type": "code",
   "execution_count": null,
   "metadata": {},
   "outputs": [],
   "source": []
  }
 ],
 "metadata": {
  "kernelspec": {
   "display_name": "Python 3",
   "language": "python",
   "name": "python3"
  },
  "language_info": {
   "codemirror_mode": {
    "name": "ipython",
    "version": 3
   },
   "file_extension": ".py",
   "mimetype": "text/x-python",
   "name": "python",
   "nbconvert_exporter": "python",
   "pygments_lexer": "ipython3",
   "version": "3.7.3"
  }
 },
 "nbformat": 4,
 "nbformat_minor": 2
}
