{
 "cells": [
  {
   "cell_type": "markdown",
   "metadata": {},
   "source": [
    "## Project Name : Text Characterization using Speech Recognition"
   ]
  },
  {
   "cell_type": "markdown",
   "metadata": {},
   "source": [
    "#### In this project we will see how we can use Speech Recognition librarties to characterize audio speech files by importing or by just saying them. We will see how we can perform different operations on a speech to text converted data."
   ]
  },
  {
   "cell_type": "markdown",
   "metadata": {},
   "source": [
    "### Time Line of the project :\n",
    "- Importing Libraries\n",
    "- Using Speech Recognition \n",
    "- Observing the audio data\n",
    "- Analyzing the lyrics of a song"
   ]
  },
  {
   "cell_type": "code",
   "execution_count": 1,
   "metadata": {},
   "outputs": [],
   "source": [
    "import pandas as pd\n",
    "import numpy as np\n",
    "import speech_recognition as sr"
   ]
  },
  {
   "cell_type": "code",
   "execution_count": 2,
   "metadata": {},
   "outputs": [],
   "source": [
    "import IPython.display as ipd"
   ]
  },
  {
   "cell_type": "code",
   "execution_count": 9,
   "metadata": {},
   "outputs": [
    {
     "data": {
      "text/plain": [
       "speech_recognition.AudioFile"
      ]
     },
     "execution_count": 9,
     "metadata": {},
     "output_type": "execute_result"
    }
   ],
   "source": [
    "recognizer = sr.Recognizer()\n",
    "audio_file = sr.AudioFile(\"voice-data.wav\")\n",
    "type(audio_file)"
   ]
  },
  {
   "cell_type": "markdown",
   "metadata": {},
   "source": [
    "### APIs : There are various APIs present which does the Speech To Text Conversion. Different APIs are :\n",
    "- IBM Speech TO Text\n",
    "- CMU SPhinx\n",
    "- Google Web Speech API (Recognize Google)\n",
    "- Google Cloud Speech \n",
    "And more"
   ]
  },
  {
   "cell_type": "markdown",
   "metadata": {},
   "source": [
    "### Google Web Speech API : "
   ]
  },
  {
   "cell_type": "markdown",
   "metadata": {},
   "source": [
    "This is a free web service provided by Google i.e. Recognize Google, through which we can convert audio speech files to text and perform operations on them."
   ]
  },
  {
   "cell_type": "code",
   "execution_count": 3,
   "metadata": {},
   "outputs": [],
   "source": [
    "recognizer = sr.Recognizer()\n",
    "audio_file = sr.AudioFile(\"voice-data.wav\")\n",
    "with audio_file as source:\n",
    "    audio_file = recognizer.record(source)\n",
    "    result=recognizer.recognize_google(audio_data=audio_file)"
   ]
  },
  {
   "cell_type": "code",
   "execution_count": 7,
   "metadata": {},
   "outputs": [
    {
     "data": {
      "text/plain": [
       "\"awesome would you be then this meeting in so that we don't have nobody\""
      ]
     },
     "execution_count": 7,
     "metadata": {},
     "output_type": "execute_result"
    }
   ],
   "source": [
    "result"
   ]
  },
  {
   "cell_type": "markdown",
   "metadata": {},
   "source": [
    "There are two types of taking input :\n",
    "\n",
    "1) Duration : This is used to select a specific time of audio data i.e. if you want to select just 5 seconds then you can set Duration= 5 and it will only select the 5 seconds of audio file"
   ]
  },
  {
   "cell_type": "code",
   "execution_count": 7,
   "metadata": {},
   "outputs": [],
   "source": [
    "recognizer = sr.Recognizer()\n",
    "audio_file = sr.AudioFile(\"voice-data.wav\")\n",
    "with audio_file as source:\n",
    "    audio_file = recognizer.record(source,duration=10)\n",
    "    result1=recognizer.recognize_google(audio_data=audio_file)"
   ]
  },
  {
   "cell_type": "code",
   "execution_count": 8,
   "metadata": {},
   "outputs": [
    {
     "data": {
      "text/plain": [
       "\"awesome would you be then this meeting in so that we don't have nobody\""
      ]
     },
     "execution_count": 8,
     "metadata": {},
     "output_type": "execute_result"
    }
   ],
   "source": [
    "result1"
   ]
  },
  {
   "cell_type": "markdown",
   "metadata": {},
   "source": [
    "2) Offset : This is used when you cut out some part of the starting data from your audio file i.e. if you don't want first 2 seconds then you can select offset as 2 and it will skip the first two seconds."
   ]
  },
  {
   "cell_type": "code",
   "execution_count": 9,
   "metadata": {},
   "outputs": [],
   "source": [
    "recognizer = sr.Recognizer()\n",
    "audio_file = sr.AudioFile(\"voice-data.wav\")\n",
    "with audio_file as source:\n",
    "    audio_file = recognizer.record(source,offset=2)\n",
    "    result2=recognizer.recognize_google(audio_data=audio_file)"
   ]
  },
  {
   "cell_type": "code",
   "execution_count": 10,
   "metadata": {},
   "outputs": [
    {
     "data": {
      "text/plain": [
       "\"awesome okay would you be then locking this meeting in so that we don't have nobody\""
      ]
     },
     "execution_count": 10,
     "metadata": {},
     "output_type": "execute_result"
    }
   ],
   "source": [
    "result2"
   ]
  },
  {
   "cell_type": "markdown",
   "metadata": {},
   "source": [
    "Combining both"
   ]
  },
  {
   "cell_type": "code",
   "execution_count": 12,
   "metadata": {},
   "outputs": [],
   "source": [
    "recognizer = sr.Recognizer()\n",
    "audio_file = sr.AudioFile(\"voice-data.wav\")\n",
    "with audio_file as source:\n",
    "    audio_file = recognizer.record(source, duration= 5.0, offset = 2.0)\n",
    "    result3 = recognizer.recognize_google(audio_data=audio_file)"
   ]
  },
  {
   "cell_type": "markdown",
   "metadata": {},
   "source": [
    "Comparing all the results"
   ]
  },
  {
   "cell_type": "code",
   "execution_count": 13,
   "metadata": {},
   "outputs": [
    {
     "name": "stdout",
     "output_type": "stream",
     "text": [
      "awesome okay would you be then clocking this meeting in so that we don't have nobody cuz once the division of penis.\n",
      "awesome would you be then this meeting in so that we don't have nobody\n",
      "awesome okay would you be then locking this meeting in so that we don't have nobody\n",
      "awesome okay would you be then\n"
     ]
    }
   ],
   "source": [
    "print(result)\n",
    "print(result1)\n",
    "print(result2)\n",
    "print(result3)"
   ]
  },
  {
   "cell_type": "markdown",
   "metadata": {},
   "source": [
    "#### Effect of Noise"
   ]
  },
  {
   "cell_type": "markdown",
   "metadata": {},
   "source": [
    "Noise in the backgroud data can create disturbances or error in the results hence it is necessary to remove the noise from the audio file"
   ]
  },
  {
   "cell_type": "code",
   "execution_count": 31,
   "metadata": {},
   "outputs": [],
   "source": [
    "recognizer = sr.Recognizer()\n",
    "audio_file = sr.AudioFile(\"voice-data.wav\")\n",
    "with audio_file as source:\n",
    "    recognizer.adjust_for_ambient_noise(source)\n",
    "    audio = recognizer.record(source)\n",
    "\n",
    "result4= recognizer.recognize_google(audio)"
   ]
  },
  {
   "cell_type": "code",
   "execution_count": 32,
   "metadata": {},
   "outputs": [
    {
     "name": "stdout",
     "output_type": "stream",
     "text": [
      "awesome would you be then this meeting in so that we don't have nobody\n"
     ]
    }
   ],
   "source": [
    "print(result4)"
   ]
  },
  {
   "cell_type": "code",
   "execution_count": 33,
   "metadata": {},
   "outputs": [],
   "source": [
    "result_str= result.split(' ')"
   ]
  },
  {
   "cell_type": "code",
   "execution_count": 34,
   "metadata": {},
   "outputs": [
    {
     "data": {
      "text/plain": [
       "['awesome',\n",
       " 'okay',\n",
       " 'would',\n",
       " 'you',\n",
       " 'be',\n",
       " 'then',\n",
       " 'clocking',\n",
       " 'this',\n",
       " 'meeting',\n",
       " 'in',\n",
       " 'so',\n",
       " 'that',\n",
       " 'we',\n",
       " \"don't\",\n",
       " 'have',\n",
       " 'nobody',\n",
       " 'cuz',\n",
       " 'once',\n",
       " 'the',\n",
       " 'division',\n",
       " 'of',\n",
       " 'penis.']"
      ]
     },
     "execution_count": 34,
     "metadata": {},
     "output_type": "execute_result"
    }
   ],
   "source": [
    "result_str"
   ]
  },
  {
   "cell_type": "code",
   "execution_count": 35,
   "metadata": {},
   "outputs": [
    {
     "name": "stdout",
     "output_type": "stream",
     "text": [
      "['awesome', 'okay', 'would', 'you', 'be', 'then', 'clocking', 'this', 'meeting', 'in', 'so', 'that', 'we', \"don't\", 'have', 'nobody', 'cuz', 'once', 'the', 'division', 'of', 'penis.']\n"
     ]
    }
   ],
   "source": [
    "print(result_str)"
   ]
  },
  {
   "cell_type": "markdown",
   "metadata": {},
   "source": [
    "#### Different number of words used?"
   ]
  },
  {
   "cell_type": "code",
   "execution_count": 36,
   "metadata": {},
   "outputs": [
    {
     "name": "stdout",
     "output_type": "stream",
     "text": [
      "{'okay', 'in', \"don't\", 'that', 'you', 'awesome', 'cuz', 'clocking', 'of', 'have', 'once', 'be', 'meeting', 'we', 'the', 'nobody', 'penis.', 'so', 'would', 'then', 'division', 'this'}\n"
     ]
    }
   ],
   "source": [
    "unique_words = set(result_str)\n",
    "print(unique_words)"
   ]
  },
  {
   "cell_type": "code",
   "execution_count": 37,
   "metadata": {},
   "outputs": [
    {
     "name": "stdout",
     "output_type": "stream",
     "text": [
      "The number of different words used:  22\n"
     ]
    }
   ],
   "source": [
    "print(\"The number of different words used: \",len(unique_words))"
   ]
  },
  {
   "cell_type": "markdown",
   "metadata": {},
   "source": [
    "#### Count the repetition of words"
   ]
  },
  {
   "cell_type": "markdown",
   "metadata": {},
   "source": [
    "First we will store the unique words in a dictionary"
   ]
  },
  {
   "cell_type": "code",
   "execution_count": 38,
   "metadata": {},
   "outputs": [
    {
     "name": "stdout",
     "output_type": "stream",
     "text": [
      "{'awesome': 0, 'okay': 0, 'would': 0, 'you': 0, 'be': 0, 'then': 0, 'clocking': 0, 'this': 0, 'meeting': 0, 'in': 0, 'so': 0, 'that': 0, 'we': 0, \"don't\": 0, 'have': 0, 'nobody': 0, 'cuz': 0, 'once': 0, 'the': 0, 'division': 0, 'of': 0, 'penis.': 0}\n"
     ]
    }
   ],
   "source": [
    "# To count the number of times the unique words appear , first in the unique_word list\n",
    "word_dict = {} #An empty dictionary\n",
    "for word in result_str:\n",
    "    word_dict[word] = 0\n",
    "print(word_dict)"
   ]
  },
  {
   "cell_type": "code",
   "execution_count": 39,
   "metadata": {},
   "outputs": [
    {
     "name": "stdout",
     "output_type": "stream",
     "text": [
      "The count for each word spoken number of times are:  {'awesome': 1, 'okay': 1, 'would': 1, 'you': 1, 'be': 1, 'then': 1, 'clocking': 1, 'this': 1, 'meeting': 1, 'in': 1, 'so': 1, 'that': 1, 'we': 1, \"don't\": 1, 'have': 1, 'nobody': 1, 'cuz': 1, 'once': 1, 'the': 1, 'division': 1, 'of': 1, 'penis.': 1}\n"
     ]
    }
   ],
   "source": [
    "for word in result_str:\n",
    "    word_dict[word] = word_dict[word] + 1\n",
    "print(\"The count for each word spoken number of times are: \",word_dict)"
   ]
  },
  {
   "cell_type": "code",
   "execution_count": 40,
   "metadata": {},
   "outputs": [],
   "source": [
    "cols= ['Repetition']\n",
    "count_df= pd.DataFrame.from_dict(word_dict,orient ='index',columns=cols)"
   ]
  },
  {
   "cell_type": "code",
   "execution_count": 41,
   "metadata": {},
   "outputs": [],
   "source": [
    "count_df= count_df.reset_index()"
   ]
  },
  {
   "cell_type": "code",
   "execution_count": 42,
   "metadata": {},
   "outputs": [],
   "source": [
    "count_df= count_df.rename(columns = {'index':'Word'})"
   ]
  },
  {
   "cell_type": "code",
   "execution_count": 43,
   "metadata": {},
   "outputs": [
    {
     "data": {
      "text/html": [
       "<div>\n",
       "<style scoped>\n",
       "    .dataframe tbody tr th:only-of-type {\n",
       "        vertical-align: middle;\n",
       "    }\n",
       "\n",
       "    .dataframe tbody tr th {\n",
       "        vertical-align: top;\n",
       "    }\n",
       "\n",
       "    .dataframe thead th {\n",
       "        text-align: right;\n",
       "    }\n",
       "</style>\n",
       "<table border=\"1\" class=\"dataframe\">\n",
       "  <thead>\n",
       "    <tr style=\"text-align: right;\">\n",
       "      <th></th>\n",
       "      <th>Word</th>\n",
       "      <th>Repetition</th>\n",
       "    </tr>\n",
       "  </thead>\n",
       "  <tbody>\n",
       "    <tr>\n",
       "      <th>0</th>\n",
       "      <td>awesome</td>\n",
       "      <td>1</td>\n",
       "    </tr>\n",
       "    <tr>\n",
       "      <th>1</th>\n",
       "      <td>okay</td>\n",
       "      <td>1</td>\n",
       "    </tr>\n",
       "    <tr>\n",
       "      <th>2</th>\n",
       "      <td>would</td>\n",
       "      <td>1</td>\n",
       "    </tr>\n",
       "    <tr>\n",
       "      <th>3</th>\n",
       "      <td>you</td>\n",
       "      <td>1</td>\n",
       "    </tr>\n",
       "    <tr>\n",
       "      <th>4</th>\n",
       "      <td>be</td>\n",
       "      <td>1</td>\n",
       "    </tr>\n",
       "    <tr>\n",
       "      <th>5</th>\n",
       "      <td>then</td>\n",
       "      <td>1</td>\n",
       "    </tr>\n",
       "    <tr>\n",
       "      <th>6</th>\n",
       "      <td>clocking</td>\n",
       "      <td>1</td>\n",
       "    </tr>\n",
       "    <tr>\n",
       "      <th>7</th>\n",
       "      <td>this</td>\n",
       "      <td>1</td>\n",
       "    </tr>\n",
       "    <tr>\n",
       "      <th>8</th>\n",
       "      <td>meeting</td>\n",
       "      <td>1</td>\n",
       "    </tr>\n",
       "    <tr>\n",
       "      <th>9</th>\n",
       "      <td>in</td>\n",
       "      <td>1</td>\n",
       "    </tr>\n",
       "    <tr>\n",
       "      <th>10</th>\n",
       "      <td>so</td>\n",
       "      <td>1</td>\n",
       "    </tr>\n",
       "    <tr>\n",
       "      <th>11</th>\n",
       "      <td>that</td>\n",
       "      <td>1</td>\n",
       "    </tr>\n",
       "    <tr>\n",
       "      <th>12</th>\n",
       "      <td>we</td>\n",
       "      <td>1</td>\n",
       "    </tr>\n",
       "    <tr>\n",
       "      <th>13</th>\n",
       "      <td>don't</td>\n",
       "      <td>1</td>\n",
       "    </tr>\n",
       "    <tr>\n",
       "      <th>14</th>\n",
       "      <td>have</td>\n",
       "      <td>1</td>\n",
       "    </tr>\n",
       "    <tr>\n",
       "      <th>15</th>\n",
       "      <td>nobody</td>\n",
       "      <td>1</td>\n",
       "    </tr>\n",
       "    <tr>\n",
       "      <th>16</th>\n",
       "      <td>cuz</td>\n",
       "      <td>1</td>\n",
       "    </tr>\n",
       "    <tr>\n",
       "      <th>17</th>\n",
       "      <td>once</td>\n",
       "      <td>1</td>\n",
       "    </tr>\n",
       "    <tr>\n",
       "      <th>18</th>\n",
       "      <td>the</td>\n",
       "      <td>1</td>\n",
       "    </tr>\n",
       "    <tr>\n",
       "      <th>19</th>\n",
       "      <td>division</td>\n",
       "      <td>1</td>\n",
       "    </tr>\n",
       "    <tr>\n",
       "      <th>20</th>\n",
       "      <td>of</td>\n",
       "      <td>1</td>\n",
       "    </tr>\n",
       "    <tr>\n",
       "      <th>21</th>\n",
       "      <td>penis.</td>\n",
       "      <td>1</td>\n",
       "    </tr>\n",
       "  </tbody>\n",
       "</table>\n",
       "</div>"
      ],
      "text/plain": [
       "        Word  Repetition\n",
       "0    awesome           1\n",
       "1       okay           1\n",
       "2      would           1\n",
       "3        you           1\n",
       "4         be           1\n",
       "5       then           1\n",
       "6   clocking           1\n",
       "7       this           1\n",
       "8    meeting           1\n",
       "9         in           1\n",
       "10        so           1\n",
       "11      that           1\n",
       "12        we           1\n",
       "13     don't           1\n",
       "14      have           1\n",
       "15    nobody           1\n",
       "16       cuz           1\n",
       "17      once           1\n",
       "18       the           1\n",
       "19  division           1\n",
       "20        of           1\n",
       "21    penis.           1"
      ]
     },
     "execution_count": 43,
     "metadata": {},
     "output_type": "execute_result"
    }
   ],
   "source": [
    "count_df"
   ]
  },
  {
   "cell_type": "markdown",
   "metadata": {},
   "source": [
    "#### Counting the number of words spoken per minute"
   ]
  },
  {
   "cell_type": "code",
   "execution_count": 44,
   "metadata": {},
   "outputs": [
    {
     "name": "stdout",
     "output_type": "stream",
     "text": [
      "Total number of words:  22\n"
     ]
    }
   ],
   "source": [
    "print(\"Total number of words: \",len(result_str))"
   ]
  },
  {
   "cell_type": "code",
   "execution_count": 45,
   "metadata": {},
   "outputs": [
    {
     "name": "stdout",
     "output_type": "stream",
     "text": [
      "Total length of audio: 3.08 minutes \n"
     ]
    }
   ],
   "source": [
    "print(\"Total length of audio: 3.08 minutes \")"
   ]
  },
  {
   "cell_type": "code",
   "execution_count": 46,
   "metadata": {},
   "outputs": [
    {
     "name": "stdout",
     "output_type": "stream",
     "text": [
      "Total number of words spoken per minute :  7.142857142857142\n"
     ]
    }
   ],
   "source": [
    "print(\"Total number of words spoken per minute : \",(len(result_str)/3.08))"
   ]
  },
  {
   "cell_type": "code",
   "execution_count": null,
   "metadata": {},
   "outputs": [],
   "source": []
  }
 ],
 "metadata": {
  "kernelspec": {
   "display_name": "Python 3",
   "language": "python",
   "name": "python3"
  },
  "language_info": {
   "codemirror_mode": {
    "name": "ipython",
    "version": 3
   },
   "file_extension": ".py",
   "mimetype": "text/x-python",
   "name": "python",
   "nbconvert_exporter": "python",
   "pygments_lexer": "ipython3",
   "version": "3.7.4"
  }
 },
 "nbformat": 4,
 "nbformat_minor": 5
}
