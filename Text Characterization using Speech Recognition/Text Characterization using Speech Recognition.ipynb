{
 "cells": [
  {
   "cell_type": "markdown",
   "id": "6e568afd",
   "metadata": {},
   "source": [
    "## Project Name : Text Characterization using Speech Recognition"
   ]
  },
  {
   "cell_type": "markdown",
   "id": "2526ebe8",
   "metadata": {},
   "source": [
    "#### In this project we will see how we can use Speech Recognition librarties to characterize audio speech files by importing or by just saying them. We will see how we can perform different operations on a speech to text converted data."
   ]
  },
  {
   "cell_type": "markdown",
   "id": "a412da18",
   "metadata": {},
   "source": [
    "### Time Line of the project :\n",
    "- Importing Libraries\n",
    "- Using Speech Recognition \n",
    "- Observing the audio data\n",
    "- Analyzing the lyrics of a song"
   ]
  },
  {
   "cell_type": "code",
   "execution_count": 2,
   "id": "010866e8",
   "metadata": {},
   "outputs": [],
   "source": [
    "import pandas as pd\n",
    "import numpy as np\n",
    "import speech_recognition as sr"
   ]
  },
  {
   "cell_type": "code",
   "execution_count": 5,
   "id": "9adbf6ee",
   "metadata": {},
   "outputs": [],
   "source": [
    "import IPython.display as ipd"
   ]
  },
  {
   "cell_type": "code",
   "execution_count": 3,
   "id": "7a6e2b86",
   "metadata": {},
   "outputs": [
    {
     "data": {
      "text/plain": [
       "speech_recognition.AudioFile"
      ]
     },
     "execution_count": 3,
     "metadata": {},
     "output_type": "execute_result"
    }
   ],
   "source": [
    "recognizer = sr.Recognizer()\n",
    "audio_file = sr.AudioFile(\"voice-data.wav\")\n",
    "type(audio_file)"
   ]
  },
  {
   "cell_type": "markdown",
   "id": "49387783",
   "metadata": {},
   "source": [
    "### APIs : There are various APIs present which does the Speech To Text Conversion. Different APIs are :\n",
    "- IBM Speech TO Text\n",
    "- CMU SPhinx\n",
    "- Google Web Speech API (Recognize Google)\n",
    "- Google Cloud Speech \n",
    "And more"
   ]
  },
  {
   "cell_type": "markdown",
   "id": "646e7adb",
   "metadata": {},
   "source": [
    "### Google Web Speech API : "
   ]
  },
  {
   "cell_type": "markdown",
   "id": "d777869c",
   "metadata": {},
   "source": [
    "This is a free web service provided by Google i.e. Recognize Google, through which we can convert audio speech files to text and perform operations on them."
   ]
  },
  {
   "cell_type": "code",
   "execution_count": 6,
   "id": "e4ec2b1b",
   "metadata": {},
   "outputs": [],
   "source": [
    "with audio_file as source:\n",
    "    audio_file = recognizer.record(source)\n",
    "    result=recognizer.recognize_google(audio_data=audio_file)"
   ]
  },
  {
   "cell_type": "markdown",
   "id": "9234d735",
   "metadata": {},
   "source": [
    "There are two types of taking input :\n",
    "\n",
    "1) Duration : This is used to select a specific time of audio data i.e. if you want to select just 5 seconds then you can set Duration= 5 and it will only select the 5 seconds of audio file"
   ]
  },
  {
   "cell_type": "code",
   "execution_count": null,
   "id": "7c5c4533",
   "metadata": {},
   "outputs": [],
   "source": [
    "with audio_file_ as source:\n",
    "    audio_file = recognizer.record(source, duration = 5.0)\n",
    "    result1 = recognizer.recognize_google(audio_data=audio_file)"
   ]
  },
  {
   "cell_type": "markdown",
   "id": "96fb7887",
   "metadata": {},
   "source": [
    "2) Offset : This is used when you cut out some part of the starting data from your audio file i.e. if you don't want first 2 seconds then you can select offset as 2 and it will skip the first two seconds."
   ]
  },
  {
   "cell_type": "code",
   "execution_count": null,
   "id": "253639a2",
   "metadata": {},
   "outputs": [],
   "source": [
    "with audio_file_ as source:\n",
    "    audio_file = recognizer.record(source, offset = 2.0)\n",
    "    result2 = recognizer.recognize_google(audio_data=audio_file)"
   ]
  },
  {
   "cell_type": "markdown",
   "id": "5d0a0a88",
   "metadata": {},
   "source": [
    "Combining both"
   ]
  },
  {
   "cell_type": "code",
   "execution_count": null,
   "id": "b66c844b",
   "metadata": {},
   "outputs": [],
   "source": [
    "with audio_file_ as source:\n",
    "    audio_file = recognizer.record(source, duration= 5.0, offset = 2.0)\n",
    "    result3 = recognizer.recognize_google(audio_data=audio_file)"
   ]
  },
  {
   "cell_type": "markdown",
   "id": "7ef6e667",
   "metadata": {},
   "source": [
    "Comparing all the results"
   ]
  },
  {
   "cell_type": "code",
   "execution_count": null,
   "id": "34695004",
   "metadata": {},
   "outputs": [],
   "source": [
    "print(result)\n",
    "print(result1)\n",
    "print(result2)\n",
    "print(result3)"
   ]
  },
  {
   "cell_type": "markdown",
   "id": "bc7a9b47",
   "metadata": {},
   "source": [
    "#### Effect of Noise"
   ]
  },
  {
   "cell_type": "markdown",
   "id": "7a7d0b88",
   "metadata": {},
   "source": [
    "Noise in the backgroud data can create disturbances or error in the results hence it is necessary to remove the noise from the audio file"
   ]
  },
  {
   "cell_type": "code",
   "execution_count": null,
   "id": "30fdca18",
   "metadata": {},
   "outputs": [],
   "source": [
    "with audio_file_ as source:\n",
    "    recognizer.adjust_for_ambient_noise(source, duration=0.5)\n",
    "    audio = recognizer.record(source)\n",
    "\n",
    "result4= recognizer.recognize_google(audio)"
   ]
  },
  {
   "cell_type": "code",
   "execution_count": null,
   "id": "f60ae68b",
   "metadata": {},
   "outputs": [],
   "source": [
    "print(result4)"
   ]
  },
  {
   "cell_type": "code",
   "execution_count": null,
   "id": "a2d8dbb5",
   "metadata": {},
   "outputs": [],
   "source": [
    "result_str= result.split(' ')"
   ]
  },
  {
   "cell_type": "code",
   "execution_count": null,
   "id": "5d0f45cd",
   "metadata": {},
   "outputs": [],
   "source": [
    "result_str"
   ]
  },
  {
   "cell_type": "code",
   "execution_count": null,
   "id": "49991b0c",
   "metadata": {},
   "outputs": [],
   "source": [
    "print(result_str)"
   ]
  },
  {
   "cell_type": "markdown",
   "id": "5d28d8e5",
   "metadata": {},
   "source": [
    "#### Different number of words used?"
   ]
  },
  {
   "cell_type": "code",
   "execution_count": null,
   "id": "24e70694",
   "metadata": {},
   "outputs": [],
   "source": [
    "unique_words = set(result_str)\n",
    "print(unique_words)"
   ]
  },
  {
   "cell_type": "code",
   "execution_count": null,
   "id": "ef54ae19",
   "metadata": {},
   "outputs": [],
   "source": [
    "print(\"The number of different words used: \",len(unique_words))"
   ]
  },
  {
   "cell_type": "markdown",
   "id": "c78d0d80",
   "metadata": {},
   "source": [
    "#### Count the repetition of words"
   ]
  },
  {
   "cell_type": "markdown",
   "id": "e4a47407",
   "metadata": {},
   "source": [
    "First we will store the unique words in a dictionary"
   ]
  },
  {
   "cell_type": "code",
   "execution_count": null,
   "id": "ea151c9c",
   "metadata": {},
   "outputs": [],
   "source": [
    "# To count the number of times the unique words appear , first in the unique_word list\n",
    "word_dict = {} #An empty dictionary\n",
    "for word in result_str:\n",
    "    word_dict[word] = 0\n",
    "print(word_dict)"
   ]
  },
  {
   "cell_type": "code",
   "execution_count": null,
   "id": "fc2e028b",
   "metadata": {},
   "outputs": [],
   "source": [
    "for word in result_str:\n",
    "    word_dict[word] = word_dict[word] + 1\n",
    "print(\"The count for each word spoken number of times are: \",word_dict)"
   ]
  },
  {
   "cell_type": "code",
   "execution_count": null,
   "id": "0371694d",
   "metadata": {},
   "outputs": [],
   "source": [
    "cols= ['Repetition']\n",
    "count_df= pd.DataFrame.from_dict(word_dict,orient ='index',columns=cols)"
   ]
  },
  {
   "cell_type": "code",
   "execution_count": null,
   "id": "3c38cdd5",
   "metadata": {},
   "outputs": [],
   "source": [
    "count_df= count_df.reset_index()"
   ]
  },
  {
   "cell_type": "code",
   "execution_count": null,
   "id": "4d927416",
   "metadata": {},
   "outputs": [],
   "source": [
    "count_df= count_df.rename(columns = {'index':'Word'})"
   ]
  },
  {
   "cell_type": "code",
   "execution_count": null,
   "id": "f8243294",
   "metadata": {},
   "outputs": [],
   "source": [
    "count_df"
   ]
  },
  {
   "cell_type": "markdown",
   "id": "0dd8684b",
   "metadata": {},
   "source": [
    "#### Counting the number of words spoken per minute"
   ]
  },
  {
   "cell_type": "code",
   "execution_count": null,
   "id": "807efa04",
   "metadata": {},
   "outputs": [],
   "source": [
    "print(\"Total number of words: \",len(result_str))"
   ]
  },
  {
   "cell_type": "code",
   "execution_count": null,
   "id": "a5498423",
   "metadata": {},
   "outputs": [],
   "source": [
    "print(\"Total length of audio: 3.08 minutes \")"
   ]
  },
  {
   "cell_type": "code",
   "execution_count": null,
   "id": "bf6d133d",
   "metadata": {},
   "outputs": [],
   "source": [
    "print(\"Total number of words spoken per minute : \",(len(result_str)/3.08))"
   ]
  },
  {
   "cell_type": "markdown",
   "id": "6e37c982",
   "metadata": {},
   "source": [
    "#### Approx total number of words spoken are 79 words per minute"
   ]
  },
  {
   "cell_type": "code",
   "execution_count": null,
   "id": "316c91d8",
   "metadata": {},
   "outputs": [],
   "source": []
  }
 ],
 "metadata": {
  "kernelspec": {
   "display_name": "Python 3",
   "language": "python",
   "name": "python3"
  },
  "language_info": {
   "codemirror_mode": {
    "name": "ipython",
    "version": 3
   },
   "file_extension": ".py",
   "mimetype": "text/x-python",
   "name": "python",
   "nbconvert_exporter": "python",
   "pygments_lexer": "ipython3",
   "version": "3.8.8"
  }
 },
 "nbformat": 4,
 "nbformat_minor": 5
}
